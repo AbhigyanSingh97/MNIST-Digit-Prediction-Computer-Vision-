{
  "nbformat": 4,
  "nbformat_minor": 0,
  "metadata": {
    "colab": {
      "name": "Digit_prediction",
      "provenance": [],
      "authorship_tag": "ABX9TyOB3CpgZGrPXAgaw633i24X",
      "include_colab_link": true
    },
    "kernelspec": {
      "name": "python3",
      "display_name": "Python 3"
    }
  },
  "cells": [
    {
      "cell_type": "markdown",
      "metadata": {
        "id": "view-in-github",
        "colab_type": "text"
      },
      "source": [
        "<a href=\"https://colab.research.google.com/github/AbhigyanSingh97/MNIST-Digit-Prediction-Computer-Vision-/blob/master/Digit_prediction.ipynb\" target=\"_parent\"><img src=\"https://colab.research.google.com/assets/colab-badge.svg\" alt=\"Open In Colab\"/></a>"
      ]
    },
    {
      "cell_type": "code",
      "metadata": {
        "id": "syhKn78tMiyh",
        "colab_type": "code",
        "colab": {
          "base_uri": "https://localhost:8080/",
          "height": 34
        },
        "outputId": "fce7e32c-c53a-4354-a18b-a5fa7f48ff85"
      },
      "source": [
        "from google.colab import drive\n",
        "drive.mount(\"/content/drive\")"
      ],
      "execution_count": 69,
      "outputs": [
        {
          "output_type": "stream",
          "text": [
            "Drive already mounted at /content/drive; to attempt to forcibly remount, call drive.mount(\"/content/drive\", force_remount=True).\n"
          ],
          "name": "stdout"
        }
      ]
    },
    {
      "cell_type": "code",
      "metadata": {
        "id": "uhprqFSkLCr8",
        "colab_type": "code",
        "colab": {}
      },
      "source": [
        "import pandas as pd\n",
        "import numpy as np\n",
        "import matplotlib.pyplot as plt\n",
        "import matplotlib.image as mpi\n",
        "import seaborn as sns\n",
        "%matplotlib inline\n",
        "from sklearn.model_selection import train_test_split\n",
        "from sklearn.metrics import confusion_matrix\n",
        "import itertools\n",
        "\n",
        "from keras.utils.np_utils import to_categorical\n",
        "from keras.models import Sequential\n",
        "from keras.layers import Dense,Dropout,Flatten,Conv2D,MaxPool2D\n",
        "from keras.optimizers import Adam\n",
        "from keras.preprocessing.image import ImageDataGenerator\n",
        "from keras.callbacks import ReduceLROnPlateau"
      ],
      "execution_count": 0,
      "outputs": []
    },
    {
      "cell_type": "code",
      "metadata": {
        "id": "dgV-a-6vOTsI",
        "colab_type": "code",
        "colab": {}
      },
      "source": [
        "train = pd.read_csv('/content/drive/My Drive/data/digit-recognizer/train.csv')\n",
        "test = pd.read_csv('/content/drive/My Drive/data/digit-recognizer/test.csv')"
      ],
      "execution_count": 0,
      "outputs": []
    },
    {
      "cell_type": "code",
      "metadata": {
        "id": "yY-9ly8kQCzr",
        "colab_type": "code",
        "colab": {
          "base_uri": "https://localhost:8080/",
          "height": 244
        },
        "outputId": "5e8af589-3cb5-412d-fa63-e13f7b733cff"
      },
      "source": [
        "train.head()"
      ],
      "execution_count": 72,
      "outputs": [
        {
          "output_type": "execute_result",
          "data": {
            "text/html": [
              "<div>\n",
              "<style scoped>\n",
              "    .dataframe tbody tr th:only-of-type {\n",
              "        vertical-align: middle;\n",
              "    }\n",
              "\n",
              "    .dataframe tbody tr th {\n",
              "        vertical-align: top;\n",
              "    }\n",
              "\n",
              "    .dataframe thead th {\n",
              "        text-align: right;\n",
              "    }\n",
              "</style>\n",
              "<table border=\"1\" class=\"dataframe\">\n",
              "  <thead>\n",
              "    <tr style=\"text-align: right;\">\n",
              "      <th></th>\n",
              "      <th>label</th>\n",
              "      <th>pixel0</th>\n",
              "      <th>pixel1</th>\n",
              "      <th>pixel2</th>\n",
              "      <th>pixel3</th>\n",
              "      <th>pixel4</th>\n",
              "      <th>pixel5</th>\n",
              "      <th>pixel6</th>\n",
              "      <th>pixel7</th>\n",
              "      <th>pixel8</th>\n",
              "      <th>pixel9</th>\n",
              "      <th>pixel10</th>\n",
              "      <th>pixel11</th>\n",
              "      <th>pixel12</th>\n",
              "      <th>pixel13</th>\n",
              "      <th>pixel14</th>\n",
              "      <th>pixel15</th>\n",
              "      <th>pixel16</th>\n",
              "      <th>pixel17</th>\n",
              "      <th>pixel18</th>\n",
              "      <th>pixel19</th>\n",
              "      <th>pixel20</th>\n",
              "      <th>pixel21</th>\n",
              "      <th>pixel22</th>\n",
              "      <th>pixel23</th>\n",
              "      <th>pixel24</th>\n",
              "      <th>pixel25</th>\n",
              "      <th>pixel26</th>\n",
              "      <th>pixel27</th>\n",
              "      <th>pixel28</th>\n",
              "      <th>pixel29</th>\n",
              "      <th>pixel30</th>\n",
              "      <th>pixel31</th>\n",
              "      <th>pixel32</th>\n",
              "      <th>pixel33</th>\n",
              "      <th>pixel34</th>\n",
              "      <th>pixel35</th>\n",
              "      <th>pixel36</th>\n",
              "      <th>pixel37</th>\n",
              "      <th>pixel38</th>\n",
              "      <th>...</th>\n",
              "      <th>pixel744</th>\n",
              "      <th>pixel745</th>\n",
              "      <th>pixel746</th>\n",
              "      <th>pixel747</th>\n",
              "      <th>pixel748</th>\n",
              "      <th>pixel749</th>\n",
              "      <th>pixel750</th>\n",
              "      <th>pixel751</th>\n",
              "      <th>pixel752</th>\n",
              "      <th>pixel753</th>\n",
              "      <th>pixel754</th>\n",
              "      <th>pixel755</th>\n",
              "      <th>pixel756</th>\n",
              "      <th>pixel757</th>\n",
              "      <th>pixel758</th>\n",
              "      <th>pixel759</th>\n",
              "      <th>pixel760</th>\n",
              "      <th>pixel761</th>\n",
              "      <th>pixel762</th>\n",
              "      <th>pixel763</th>\n",
              "      <th>pixel764</th>\n",
              "      <th>pixel765</th>\n",
              "      <th>pixel766</th>\n",
              "      <th>pixel767</th>\n",
              "      <th>pixel768</th>\n",
              "      <th>pixel769</th>\n",
              "      <th>pixel770</th>\n",
              "      <th>pixel771</th>\n",
              "      <th>pixel772</th>\n",
              "      <th>pixel773</th>\n",
              "      <th>pixel774</th>\n",
              "      <th>pixel775</th>\n",
              "      <th>pixel776</th>\n",
              "      <th>pixel777</th>\n",
              "      <th>pixel778</th>\n",
              "      <th>pixel779</th>\n",
              "      <th>pixel780</th>\n",
              "      <th>pixel781</th>\n",
              "      <th>pixel782</th>\n",
              "      <th>pixel783</th>\n",
              "    </tr>\n",
              "  </thead>\n",
              "  <tbody>\n",
              "    <tr>\n",
              "      <th>0</th>\n",
              "      <td>1</td>\n",
              "      <td>0</td>\n",
              "      <td>0</td>\n",
              "      <td>0</td>\n",
              "      <td>0</td>\n",
              "      <td>0</td>\n",
              "      <td>0</td>\n",
              "      <td>0</td>\n",
              "      <td>0</td>\n",
              "      <td>0</td>\n",
              "      <td>0</td>\n",
              "      <td>0</td>\n",
              "      <td>0</td>\n",
              "      <td>0</td>\n",
              "      <td>0</td>\n",
              "      <td>0</td>\n",
              "      <td>0</td>\n",
              "      <td>0</td>\n",
              "      <td>0</td>\n",
              "      <td>0</td>\n",
              "      <td>0</td>\n",
              "      <td>0</td>\n",
              "      <td>0</td>\n",
              "      <td>0</td>\n",
              "      <td>0</td>\n",
              "      <td>0</td>\n",
              "      <td>0</td>\n",
              "      <td>0</td>\n",
              "      <td>0</td>\n",
              "      <td>0</td>\n",
              "      <td>0</td>\n",
              "      <td>0</td>\n",
              "      <td>0</td>\n",
              "      <td>0</td>\n",
              "      <td>0</td>\n",
              "      <td>0</td>\n",
              "      <td>0</td>\n",
              "      <td>0</td>\n",
              "      <td>0</td>\n",
              "      <td>0</td>\n",
              "      <td>...</td>\n",
              "      <td>0</td>\n",
              "      <td>0</td>\n",
              "      <td>0</td>\n",
              "      <td>0</td>\n",
              "      <td>0</td>\n",
              "      <td>0</td>\n",
              "      <td>0</td>\n",
              "      <td>0</td>\n",
              "      <td>0</td>\n",
              "      <td>0</td>\n",
              "      <td>0</td>\n",
              "      <td>0</td>\n",
              "      <td>0</td>\n",
              "      <td>0</td>\n",
              "      <td>0</td>\n",
              "      <td>0</td>\n",
              "      <td>0</td>\n",
              "      <td>0</td>\n",
              "      <td>0</td>\n",
              "      <td>0</td>\n",
              "      <td>0</td>\n",
              "      <td>0</td>\n",
              "      <td>0</td>\n",
              "      <td>0</td>\n",
              "      <td>0</td>\n",
              "      <td>0</td>\n",
              "      <td>0</td>\n",
              "      <td>0</td>\n",
              "      <td>0</td>\n",
              "      <td>0</td>\n",
              "      <td>0</td>\n",
              "      <td>0</td>\n",
              "      <td>0</td>\n",
              "      <td>0</td>\n",
              "      <td>0</td>\n",
              "      <td>0</td>\n",
              "      <td>0</td>\n",
              "      <td>0</td>\n",
              "      <td>0</td>\n",
              "      <td>0</td>\n",
              "    </tr>\n",
              "    <tr>\n",
              "      <th>1</th>\n",
              "      <td>0</td>\n",
              "      <td>0</td>\n",
              "      <td>0</td>\n",
              "      <td>0</td>\n",
              "      <td>0</td>\n",
              "      <td>0</td>\n",
              "      <td>0</td>\n",
              "      <td>0</td>\n",
              "      <td>0</td>\n",
              "      <td>0</td>\n",
              "      <td>0</td>\n",
              "      <td>0</td>\n",
              "      <td>0</td>\n",
              "      <td>0</td>\n",
              "      <td>0</td>\n",
              "      <td>0</td>\n",
              "      <td>0</td>\n",
              "      <td>0</td>\n",
              "      <td>0</td>\n",
              "      <td>0</td>\n",
              "      <td>0</td>\n",
              "      <td>0</td>\n",
              "      <td>0</td>\n",
              "      <td>0</td>\n",
              "      <td>0</td>\n",
              "      <td>0</td>\n",
              "      <td>0</td>\n",
              "      <td>0</td>\n",
              "      <td>0</td>\n",
              "      <td>0</td>\n",
              "      <td>0</td>\n",
              "      <td>0</td>\n",
              "      <td>0</td>\n",
              "      <td>0</td>\n",
              "      <td>0</td>\n",
              "      <td>0</td>\n",
              "      <td>0</td>\n",
              "      <td>0</td>\n",
              "      <td>0</td>\n",
              "      <td>0</td>\n",
              "      <td>...</td>\n",
              "      <td>0</td>\n",
              "      <td>0</td>\n",
              "      <td>0</td>\n",
              "      <td>0</td>\n",
              "      <td>0</td>\n",
              "      <td>0</td>\n",
              "      <td>0</td>\n",
              "      <td>0</td>\n",
              "      <td>0</td>\n",
              "      <td>0</td>\n",
              "      <td>0</td>\n",
              "      <td>0</td>\n",
              "      <td>0</td>\n",
              "      <td>0</td>\n",
              "      <td>0</td>\n",
              "      <td>0</td>\n",
              "      <td>0</td>\n",
              "      <td>0</td>\n",
              "      <td>0</td>\n",
              "      <td>0</td>\n",
              "      <td>0</td>\n",
              "      <td>0</td>\n",
              "      <td>0</td>\n",
              "      <td>0</td>\n",
              "      <td>0</td>\n",
              "      <td>0</td>\n",
              "      <td>0</td>\n",
              "      <td>0</td>\n",
              "      <td>0</td>\n",
              "      <td>0</td>\n",
              "      <td>0</td>\n",
              "      <td>0</td>\n",
              "      <td>0</td>\n",
              "      <td>0</td>\n",
              "      <td>0</td>\n",
              "      <td>0</td>\n",
              "      <td>0</td>\n",
              "      <td>0</td>\n",
              "      <td>0</td>\n",
              "      <td>0</td>\n",
              "    </tr>\n",
              "    <tr>\n",
              "      <th>2</th>\n",
              "      <td>1</td>\n",
              "      <td>0</td>\n",
              "      <td>0</td>\n",
              "      <td>0</td>\n",
              "      <td>0</td>\n",
              "      <td>0</td>\n",
              "      <td>0</td>\n",
              "      <td>0</td>\n",
              "      <td>0</td>\n",
              "      <td>0</td>\n",
              "      <td>0</td>\n",
              "      <td>0</td>\n",
              "      <td>0</td>\n",
              "      <td>0</td>\n",
              "      <td>0</td>\n",
              "      <td>0</td>\n",
              "      <td>0</td>\n",
              "      <td>0</td>\n",
              "      <td>0</td>\n",
              "      <td>0</td>\n",
              "      <td>0</td>\n",
              "      <td>0</td>\n",
              "      <td>0</td>\n",
              "      <td>0</td>\n",
              "      <td>0</td>\n",
              "      <td>0</td>\n",
              "      <td>0</td>\n",
              "      <td>0</td>\n",
              "      <td>0</td>\n",
              "      <td>0</td>\n",
              "      <td>0</td>\n",
              "      <td>0</td>\n",
              "      <td>0</td>\n",
              "      <td>0</td>\n",
              "      <td>0</td>\n",
              "      <td>0</td>\n",
              "      <td>0</td>\n",
              "      <td>0</td>\n",
              "      <td>0</td>\n",
              "      <td>0</td>\n",
              "      <td>...</td>\n",
              "      <td>0</td>\n",
              "      <td>0</td>\n",
              "      <td>0</td>\n",
              "      <td>0</td>\n",
              "      <td>0</td>\n",
              "      <td>0</td>\n",
              "      <td>0</td>\n",
              "      <td>0</td>\n",
              "      <td>0</td>\n",
              "      <td>0</td>\n",
              "      <td>0</td>\n",
              "      <td>0</td>\n",
              "      <td>0</td>\n",
              "      <td>0</td>\n",
              "      <td>0</td>\n",
              "      <td>0</td>\n",
              "      <td>0</td>\n",
              "      <td>0</td>\n",
              "      <td>0</td>\n",
              "      <td>0</td>\n",
              "      <td>0</td>\n",
              "      <td>0</td>\n",
              "      <td>0</td>\n",
              "      <td>0</td>\n",
              "      <td>0</td>\n",
              "      <td>0</td>\n",
              "      <td>0</td>\n",
              "      <td>0</td>\n",
              "      <td>0</td>\n",
              "      <td>0</td>\n",
              "      <td>0</td>\n",
              "      <td>0</td>\n",
              "      <td>0</td>\n",
              "      <td>0</td>\n",
              "      <td>0</td>\n",
              "      <td>0</td>\n",
              "      <td>0</td>\n",
              "      <td>0</td>\n",
              "      <td>0</td>\n",
              "      <td>0</td>\n",
              "    </tr>\n",
              "    <tr>\n",
              "      <th>3</th>\n",
              "      <td>4</td>\n",
              "      <td>0</td>\n",
              "      <td>0</td>\n",
              "      <td>0</td>\n",
              "      <td>0</td>\n",
              "      <td>0</td>\n",
              "      <td>0</td>\n",
              "      <td>0</td>\n",
              "      <td>0</td>\n",
              "      <td>0</td>\n",
              "      <td>0</td>\n",
              "      <td>0</td>\n",
              "      <td>0</td>\n",
              "      <td>0</td>\n",
              "      <td>0</td>\n",
              "      <td>0</td>\n",
              "      <td>0</td>\n",
              "      <td>0</td>\n",
              "      <td>0</td>\n",
              "      <td>0</td>\n",
              "      <td>0</td>\n",
              "      <td>0</td>\n",
              "      <td>0</td>\n",
              "      <td>0</td>\n",
              "      <td>0</td>\n",
              "      <td>0</td>\n",
              "      <td>0</td>\n",
              "      <td>0</td>\n",
              "      <td>0</td>\n",
              "      <td>0</td>\n",
              "      <td>0</td>\n",
              "      <td>0</td>\n",
              "      <td>0</td>\n",
              "      <td>0</td>\n",
              "      <td>0</td>\n",
              "      <td>0</td>\n",
              "      <td>0</td>\n",
              "      <td>0</td>\n",
              "      <td>0</td>\n",
              "      <td>0</td>\n",
              "      <td>...</td>\n",
              "      <td>0</td>\n",
              "      <td>0</td>\n",
              "      <td>0</td>\n",
              "      <td>0</td>\n",
              "      <td>0</td>\n",
              "      <td>0</td>\n",
              "      <td>0</td>\n",
              "      <td>0</td>\n",
              "      <td>0</td>\n",
              "      <td>0</td>\n",
              "      <td>0</td>\n",
              "      <td>0</td>\n",
              "      <td>0</td>\n",
              "      <td>0</td>\n",
              "      <td>0</td>\n",
              "      <td>0</td>\n",
              "      <td>0</td>\n",
              "      <td>0</td>\n",
              "      <td>0</td>\n",
              "      <td>0</td>\n",
              "      <td>0</td>\n",
              "      <td>0</td>\n",
              "      <td>0</td>\n",
              "      <td>0</td>\n",
              "      <td>0</td>\n",
              "      <td>0</td>\n",
              "      <td>0</td>\n",
              "      <td>0</td>\n",
              "      <td>0</td>\n",
              "      <td>0</td>\n",
              "      <td>0</td>\n",
              "      <td>0</td>\n",
              "      <td>0</td>\n",
              "      <td>0</td>\n",
              "      <td>0</td>\n",
              "      <td>0</td>\n",
              "      <td>0</td>\n",
              "      <td>0</td>\n",
              "      <td>0</td>\n",
              "      <td>0</td>\n",
              "    </tr>\n",
              "    <tr>\n",
              "      <th>4</th>\n",
              "      <td>0</td>\n",
              "      <td>0</td>\n",
              "      <td>0</td>\n",
              "      <td>0</td>\n",
              "      <td>0</td>\n",
              "      <td>0</td>\n",
              "      <td>0</td>\n",
              "      <td>0</td>\n",
              "      <td>0</td>\n",
              "      <td>0</td>\n",
              "      <td>0</td>\n",
              "      <td>0</td>\n",
              "      <td>0</td>\n",
              "      <td>0</td>\n",
              "      <td>0</td>\n",
              "      <td>0</td>\n",
              "      <td>0</td>\n",
              "      <td>0</td>\n",
              "      <td>0</td>\n",
              "      <td>0</td>\n",
              "      <td>0</td>\n",
              "      <td>0</td>\n",
              "      <td>0</td>\n",
              "      <td>0</td>\n",
              "      <td>0</td>\n",
              "      <td>0</td>\n",
              "      <td>0</td>\n",
              "      <td>0</td>\n",
              "      <td>0</td>\n",
              "      <td>0</td>\n",
              "      <td>0</td>\n",
              "      <td>0</td>\n",
              "      <td>0</td>\n",
              "      <td>0</td>\n",
              "      <td>0</td>\n",
              "      <td>0</td>\n",
              "      <td>0</td>\n",
              "      <td>0</td>\n",
              "      <td>0</td>\n",
              "      <td>0</td>\n",
              "      <td>...</td>\n",
              "      <td>0</td>\n",
              "      <td>0</td>\n",
              "      <td>0</td>\n",
              "      <td>0</td>\n",
              "      <td>0</td>\n",
              "      <td>0</td>\n",
              "      <td>0</td>\n",
              "      <td>0</td>\n",
              "      <td>0</td>\n",
              "      <td>0</td>\n",
              "      <td>0</td>\n",
              "      <td>0</td>\n",
              "      <td>0</td>\n",
              "      <td>0</td>\n",
              "      <td>0</td>\n",
              "      <td>0</td>\n",
              "      <td>0</td>\n",
              "      <td>0</td>\n",
              "      <td>0</td>\n",
              "      <td>0</td>\n",
              "      <td>0</td>\n",
              "      <td>0</td>\n",
              "      <td>0</td>\n",
              "      <td>0</td>\n",
              "      <td>0</td>\n",
              "      <td>0</td>\n",
              "      <td>0</td>\n",
              "      <td>0</td>\n",
              "      <td>0</td>\n",
              "      <td>0</td>\n",
              "      <td>0</td>\n",
              "      <td>0</td>\n",
              "      <td>0</td>\n",
              "      <td>0</td>\n",
              "      <td>0</td>\n",
              "      <td>0</td>\n",
              "      <td>0</td>\n",
              "      <td>0</td>\n",
              "      <td>0</td>\n",
              "      <td>0</td>\n",
              "    </tr>\n",
              "  </tbody>\n",
              "</table>\n",
              "<p>5 rows × 785 columns</p>\n",
              "</div>"
            ],
            "text/plain": [
              "   label  pixel0  pixel1  pixel2  ...  pixel780  pixel781  pixel782  pixel783\n",
              "0      1       0       0       0  ...         0         0         0         0\n",
              "1      0       0       0       0  ...         0         0         0         0\n",
              "2      1       0       0       0  ...         0         0         0         0\n",
              "3      4       0       0       0  ...         0         0         0         0\n",
              "4      0       0       0       0  ...         0         0         0         0\n",
              "\n",
              "[5 rows x 785 columns]"
            ]
          },
          "metadata": {
            "tags": []
          },
          "execution_count": 72
        }
      ]
    },
    {
      "cell_type": "code",
      "metadata": {
        "id": "V8f023yRQJGv",
        "colab_type": "code",
        "colab": {}
      },
      "source": [
        "X_train = train.drop('label',axis=1)\n",
        "Y_train = train['label']"
      ],
      "execution_count": 0,
      "outputs": []
    },
    {
      "cell_type": "code",
      "metadata": {
        "id": "omZqbRTxQYLe",
        "colab_type": "code",
        "colab": {
          "base_uri": "https://localhost:8080/",
          "height": 202
        },
        "outputId": "3c9c9a75-efa9-4eb3-d522-421935b64d48"
      },
      "source": [
        "Y_train.value_counts()"
      ],
      "execution_count": 74,
      "outputs": [
        {
          "output_type": "execute_result",
          "data": {
            "text/plain": [
              "1    4684\n",
              "7    4401\n",
              "3    4351\n",
              "9    4188\n",
              "2    4177\n",
              "6    4137\n",
              "0    4132\n",
              "4    4072\n",
              "8    4063\n",
              "5    3795\n",
              "Name: label, dtype: int64"
            ]
          },
          "metadata": {
            "tags": []
          },
          "execution_count": 74
        }
      ]
    },
    {
      "cell_type": "code",
      "metadata": {
        "id": "vGuBezfeQcnR",
        "colab_type": "code",
        "colab": {
          "base_uri": "https://localhost:8080/",
          "height": 101
        },
        "outputId": "10df24c4-f61c-4fcf-ea12-995a31e000cb"
      },
      "source": [
        "train.isnull().any().describe()"
      ],
      "execution_count": 75,
      "outputs": [
        {
          "output_type": "execute_result",
          "data": {
            "text/plain": [
              "count       785\n",
              "unique        1\n",
              "top       False\n",
              "freq        785\n",
              "dtype: object"
            ]
          },
          "metadata": {
            "tags": []
          },
          "execution_count": 75
        }
      ]
    },
    {
      "cell_type": "markdown",
      "metadata": {
        "id": "8YKglzdAQrmP",
        "colab_type": "text"
      },
      "source": [
        "# Normalizing the data\n"
      ]
    },
    {
      "cell_type": "code",
      "metadata": {
        "id": "kB2MBlPqQqql",
        "colab_type": "code",
        "colab": {}
      },
      "source": [
        "X_train = X_train/255.0\n",
        "test = test/255.0"
      ],
      "execution_count": 0,
      "outputs": []
    },
    {
      "cell_type": "code",
      "metadata": {
        "id": "NqvL_hFcRMHn",
        "colab_type": "code",
        "colab": {
          "base_uri": "https://localhost:8080/",
          "height": 34
        },
        "outputId": "5ee91d39-d4bb-4b2e-a29e-41bee1be8f25"
      },
      "source": [
        "X_train.shape"
      ],
      "execution_count": 77,
      "outputs": [
        {
          "output_type": "execute_result",
          "data": {
            "text/plain": [
              "(42000, 784)"
            ]
          },
          "metadata": {
            "tags": []
          },
          "execution_count": 77
        }
      ]
    },
    {
      "cell_type": "markdown",
      "metadata": {
        "id": "9eWSGY12Q2pr",
        "colab_type": "text"
      },
      "source": [
        "# Reshape"
      ]
    },
    {
      "cell_type": "code",
      "metadata": {
        "id": "VAJuUmgOQ5iC",
        "colab_type": "code",
        "colab": {}
      },
      "source": [
        "X_train = X_train.values.reshape(-1,28,28,1)\n",
        "test = test.values.reshape(-1,28,28,1)"
      ],
      "execution_count": 0,
      "outputs": []
    },
    {
      "cell_type": "markdown",
      "metadata": {
        "id": "zQkgsy2uRuGD",
        "colab_type": "text"
      },
      "source": [
        "# Label to one hot encoding"
      ]
    },
    {
      "cell_type": "code",
      "metadata": {
        "id": "R85yK1YJRxnC",
        "colab_type": "code",
        "colab": {}
      },
      "source": [
        "Y_train = to_categorical(Y_train,num_classes=10)"
      ],
      "execution_count": 0,
      "outputs": []
    },
    {
      "cell_type": "markdown",
      "metadata": {
        "id": "4Ja2nSQ5SEC4",
        "colab_type": "text"
      },
      "source": [
        "# splitting to get validation set"
      ]
    },
    {
      "cell_type": "code",
      "metadata": {
        "id": "j-Pa0u8hSCLF",
        "colab_type": "code",
        "colab": {}
      },
      "source": [
        "x_train,x_val,y_train,y_val = train_test_split(X_train,Y_train,test_size = 0.15,random_state=1 )"
      ],
      "execution_count": 0,
      "outputs": []
    },
    {
      "cell_type": "code",
      "metadata": {
        "id": "9LCPNrGoSfFp",
        "colab_type": "code",
        "colab": {
          "base_uri": "https://localhost:8080/",
          "height": 265
        },
        "outputId": "54678294-ceff-469b-f3dd-d05cd951c873"
      },
      "source": [
        "i = plt.imshow(x_train[0][:,:,0])"
      ],
      "execution_count": 81,
      "outputs": [
        {
          "output_type": "display_data",
          "data": {
            "image/png": "[encoded data removed]",
            "text/plain": [
              "<Figure size 432x288 with 1 Axes>"
            ]
          },
          "metadata": {
            "tags": [],
            "needs_background": "light"
          }
        }
      ]
    },
    {
      "cell_type": "markdown",
      "metadata": {
        "id": "oxESg37NT-Ik",
        "colab_type": "text"
      },
      "source": [
        "# CNN"
      ]
    },
    {
      "cell_type": "code",
      "metadata": {
        "id": "JZd5mKSWT8oQ",
        "colab_type": "code",
        "colab": {}
      },
      "source": [
        "model = Sequential()"
      ],
      "execution_count": 0,
      "outputs": []
    },
    {
      "cell_type": "code",
      "metadata": {
        "id": "hk5SMRy-T6I9",
        "colab_type": "code",
        "colab": {}
      },
      "source": [
        "model.add(Conv2D(filters=32,kernel_size=(5,5),strides=(2,2),padding='Same',activation='relu',input_shape = (28,28,1)))\n",
        "model.add(Conv2D(filters=32,kernel_size=(5,5),padding='Same',activation='relu'))\n",
        "model.add(MaxPool2D(pool_size=(2,2)))\n",
        "model.add(Dropout(0.5))\n",
        "\n",
        "model.add(Conv2D(filters=64,kernel_size=(3,3),padding='Same',activation='relu'))\n",
        "model.add(Conv2D(filters=64,kernel_size=(3,3),padding='Same',activation='relu'))\n",
        "model.add(MaxPool2D(strides=(2,2)))\n",
        "model.add(Dropout(0.5))\n",
        "\n",
        "model.add(Flatten())\n",
        "model.add(Dense(256,activation='relu'))\n",
        "model.add(Dropout(0.5))\n",
        "model.add(Dense(10,activation='softmax'))"
      ],
      "execution_count": 0,
      "outputs": []
    },
    {
      "cell_type": "markdown",
      "metadata": {
        "id": "SavEu5J-Wsn0",
        "colab_type": "text"
      },
      "source": [
        "Setting optimizer"
      ]
    },
    {
      "cell_type": "code",
      "metadata": {
        "id": "P-ZEzNZcWsTN",
        "colab_type": "code",
        "colab": {}
      },
      "source": [
        "optimizer = Adam()"
      ],
      "execution_count": 0,
      "outputs": []
    },
    {
      "cell_type": "code",
      "metadata": {
        "id": "eBCKcwxoWrWW",
        "colab_type": "code",
        "colab": {}
      },
      "source": [
        "model.compile(optimizer=optimizer,loss='categorical_crossentropy',metrics=[\"accuracy\"])"
      ],
      "execution_count": 0,
      "outputs": []
    },
    {
      "cell_type": "code",
      "metadata": {
        "id": "u0wpnSkxpiGa",
        "colab_type": "code",
        "colab": {}
      },
      "source": [
        "lr_reduction = ReduceLROnPlateau(monitor='val_acc',patience=3,verbose=1,factor=0.5,min_lr=0.00001)"
      ],
      "execution_count": 0,
      "outputs": []
    },
    {
      "cell_type": "markdown",
      "metadata": {
        "id": "9GZwuplhpzVl",
        "colab_type": "text"
      },
      "source": [
        "# Data Augmentation"
      ]
    },
    {
      "cell_type": "code",
      "metadata": {
        "id": "XPemU4Y_p2uV",
        "colab_type": "code",
        "colab": {}
      },
      "source": [
        "gen_data = ImageDataGenerator(rotation_range=10,zoom_range=0.1,width_shift_range=0.1,height_shift_range=0.1)"
      ],
      "execution_count": 0,
      "outputs": []
    },
    {
      "cell_type": "code",
      "metadata": {
        "id": "D97g-XclrFyJ",
        "colab_type": "code",
        "colab": {}
      },
      "source": [
        "gen_data.fit(x_train)"
      ],
      "execution_count": 0,
      "outputs": []
    },
    {
      "cell_type": "code",
      "metadata": {
        "id": "ln9PRAO0rcie",
        "colab_type": "code",
        "colab": {
          "base_uri": "https://localhost:8080/",
          "height": 1000
        },
        "outputId": "32ecd929-b671-476c-e4ea-897dfa540f9a"
      },
      "source": [
        "fit_model = model.fit_generator(gen_data.flow(x_train,y_train,batch_size=60),epochs=50,validation_data=(x_val,y_val),verbose=2,steps_per_epoch=x_train.shape[0]//60,callbacks=[lr_reduction])"
      ],
      "execution_count": 89,
      "outputs": [
        {
          "output_type": "stream",
          "text": [
            "Epoch 1/50\n",
            " - 72s - loss: 0.6912 - accuracy: 0.7685 - val_loss: 0.0918 - val_accuracy: 0.9711\n",
            "Epoch 2/50\n"
          ],
          "name": "stdout"
        },
        {
          "output_type": "stream",
          "text": [
            "/usr/local/lib/python3.6/dist-packages/keras/callbacks/callbacks.py:1042: RuntimeWarning: Reduce LR on plateau conditioned on metric `val_acc` which is not available. Available metrics are: val_loss,val_accuracy,loss,accuracy,lr\n",
            "  (self.monitor, ','.join(list(logs.keys()))), RuntimeWarning\n"
          ],
          "name": "stderr"
        },
        {
          "output_type": "stream",
          "text": [
            " - 71s - loss: 0.2248 - accuracy: 0.9310 - val_loss: 0.0708 - val_accuracy: 0.9779\n",
            "Epoch 3/50\n",
            " - 71s - loss: 0.1623 - accuracy: 0.9525 - val_loss: 0.0529 - val_accuracy: 0.9835\n",
            "Epoch 4/50\n",
            " - 74s - loss: 0.1369 - accuracy: 0.9596 - val_loss: 0.0446 - val_accuracy: 0.9868\n",
            "Epoch 5/50\n",
            " - 71s - loss: 0.1246 - accuracy: 0.9630 - val_loss: 0.0422 - val_accuracy: 0.9873\n",
            "Epoch 6/50\n",
            " - 71s - loss: 0.1156 - accuracy: 0.9655 - val_loss: 0.0476 - val_accuracy: 0.9865\n",
            "Epoch 7/50\n",
            " - 71s - loss: 0.1090 - accuracy: 0.9678 - val_loss: 0.0366 - val_accuracy: 0.9886\n",
            "Epoch 8/50\n",
            " - 71s - loss: 0.0969 - accuracy: 0.9710 - val_loss: 0.0340 - val_accuracy: 0.9897\n",
            "Epoch 9/50\n",
            " - 71s - loss: 0.0967 - accuracy: 0.9712 - val_loss: 0.0381 - val_accuracy: 0.9879\n",
            "Epoch 10/50\n",
            " - 71s - loss: 0.0917 - accuracy: 0.9720 - val_loss: 0.0369 - val_accuracy: 0.9890\n",
            "Epoch 11/50\n",
            " - 71s - loss: 0.0860 - accuracy: 0.9747 - val_loss: 0.0385 - val_accuracy: 0.9890\n",
            "Epoch 12/50\n",
            " - 74s - loss: 0.0836 - accuracy: 0.9748 - val_loss: 0.0392 - val_accuracy: 0.9890\n",
            "Epoch 13/50\n",
            " - 71s - loss: 0.0831 - accuracy: 0.9751 - val_loss: 0.0340 - val_accuracy: 0.9900\n",
            "Epoch 14/50\n",
            " - 71s - loss: 0.0836 - accuracy: 0.9756 - val_loss: 0.0399 - val_accuracy: 0.9889\n",
            "Epoch 15/50\n",
            " - 71s - loss: 0.0776 - accuracy: 0.9766 - val_loss: 0.0355 - val_accuracy: 0.9902\n",
            "Epoch 16/50\n",
            " - 71s - loss: 0.0779 - accuracy: 0.9758 - val_loss: 0.0312 - val_accuracy: 0.9908\n",
            "Epoch 17/50\n",
            " - 71s - loss: 0.0745 - accuracy: 0.9776 - val_loss: 0.0327 - val_accuracy: 0.9910\n",
            "Epoch 18/50\n",
            " - 71s - loss: 0.0690 - accuracy: 0.9801 - val_loss: 0.0304 - val_accuracy: 0.9913\n",
            "Epoch 19/50\n",
            " - 71s - loss: 0.0687 - accuracy: 0.9797 - val_loss: 0.0288 - val_accuracy: 0.9913\n",
            "Epoch 20/50\n",
            " - 71s - loss: 0.0726 - accuracy: 0.9786 - val_loss: 0.0325 - val_accuracy: 0.9900\n",
            "Epoch 21/50\n",
            " - 74s - loss: 0.0711 - accuracy: 0.9788 - val_loss: 0.0322 - val_accuracy: 0.9903\n",
            "Epoch 22/50\n",
            " - 71s - loss: 0.0696 - accuracy: 0.9794 - val_loss: 0.0300 - val_accuracy: 0.9924\n",
            "Epoch 23/50\n",
            " - 71s - loss: 0.0666 - accuracy: 0.9798 - val_loss: 0.0243 - val_accuracy: 0.9925\n",
            "Epoch 24/50\n",
            " - 71s - loss: 0.0701 - accuracy: 0.9803 - val_loss: 0.0313 - val_accuracy: 0.9903\n",
            "Epoch 25/50\n",
            " - 72s - loss: 0.0639 - accuracy: 0.9816 - val_loss: 0.0315 - val_accuracy: 0.9910\n",
            "Epoch 26/50\n",
            " - 72s - loss: 0.0706 - accuracy: 0.9799 - val_loss: 0.0340 - val_accuracy: 0.9914\n",
            "Epoch 27/50\n",
            " - 72s - loss: 0.0653 - accuracy: 0.9807 - val_loss: 0.0334 - val_accuracy: 0.9914\n",
            "Epoch 28/50\n",
            " - 72s - loss: 0.0620 - accuracy: 0.9821 - val_loss: 0.0287 - val_accuracy: 0.9914\n",
            "Epoch 29/50\n",
            " - 75s - loss: 0.0653 - accuracy: 0.9809 - val_loss: 0.0288 - val_accuracy: 0.9919\n",
            "Epoch 30/50\n",
            " - 72s - loss: 0.0637 - accuracy: 0.9815 - val_loss: 0.0253 - val_accuracy: 0.9938\n",
            "Epoch 31/50\n",
            " - 71s - loss: 0.0663 - accuracy: 0.9805 - val_loss: 0.0303 - val_accuracy: 0.9919\n",
            "Epoch 32/50\n",
            " - 71s - loss: 0.0627 - accuracy: 0.9818 - val_loss: 0.0228 - val_accuracy: 0.9924\n",
            "Epoch 33/50\n",
            " - 71s - loss: 0.0646 - accuracy: 0.9823 - val_loss: 0.0281 - val_accuracy: 0.9914\n",
            "Epoch 34/50\n",
            " - 71s - loss: 0.0635 - accuracy: 0.9813 - val_loss: 0.0260 - val_accuracy: 0.9924\n",
            "Epoch 35/50\n",
            " - 71s - loss: 0.0634 - accuracy: 0.9819 - val_loss: 0.0249 - val_accuracy: 0.9932\n",
            "Epoch 36/50\n",
            " - 71s - loss: 0.0587 - accuracy: 0.9826 - val_loss: 0.0304 - val_accuracy: 0.9922\n",
            "Epoch 37/50\n",
            " - 71s - loss: 0.0631 - accuracy: 0.9820 - val_loss: 0.0274 - val_accuracy: 0.9925\n",
            "Epoch 38/50\n",
            " - 74s - loss: 0.0627 - accuracy: 0.9820 - val_loss: 0.0259 - val_accuracy: 0.9924\n",
            "Epoch 39/50\n",
            " - 71s - loss: 0.0613 - accuracy: 0.9826 - val_loss: 0.0277 - val_accuracy: 0.9932\n",
            "Epoch 40/50\n",
            " - 71s - loss: 0.0614 - accuracy: 0.9832 - val_loss: 0.0304 - val_accuracy: 0.9921\n",
            "Epoch 41/50\n",
            " - 71s - loss: 0.0599 - accuracy: 0.9831 - val_loss: 0.0275 - val_accuracy: 0.9933\n",
            "Epoch 42/50\n",
            " - 71s - loss: 0.0624 - accuracy: 0.9822 - val_loss: 0.0280 - val_accuracy: 0.9914\n",
            "Epoch 43/50\n",
            " - 71s - loss: 0.0566 - accuracy: 0.9836 - val_loss: 0.0280 - val_accuracy: 0.9921\n",
            "Epoch 44/50\n",
            " - 71s - loss: 0.0570 - accuracy: 0.9832 - val_loss: 0.0288 - val_accuracy: 0.9919\n",
            "Epoch 45/50\n",
            " - 71s - loss: 0.0547 - accuracy: 0.9845 - val_loss: 0.0316 - val_accuracy: 0.9913\n",
            "Epoch 46/50\n",
            " - 74s - loss: 0.0602 - accuracy: 0.9830 - val_loss: 0.0257 - val_accuracy: 0.9910\n",
            "Epoch 47/50\n",
            " - 71s - loss: 0.0562 - accuracy: 0.9837 - val_loss: 0.0249 - val_accuracy: 0.9933\n",
            "Epoch 48/50\n",
            " - 71s - loss: 0.0601 - accuracy: 0.9832 - val_loss: 0.0330 - val_accuracy: 0.9908\n",
            "Epoch 49/50\n",
            " - 71s - loss: 0.0558 - accuracy: 0.9839 - val_loss: 0.0282 - val_accuracy: 0.9925\n",
            "Epoch 50/50\n",
            " - 71s - loss: 0.0568 - accuracy: 0.9834 - val_loss: 0.0239 - val_accuracy: 0.9933\n"
          ],
          "name": "stdout"
        }
      ]
    },
    {
      "cell_type": "markdown",
      "metadata": {
        "id": "o6wSzYGk51Uw",
        "colab_type": "text"
      },
      "source": [
        "# Evaluating the model"
      ]
    },
    {
      "cell_type": "code",
      "metadata": {
        "id": "N42EJ34O8cWM",
        "colab_type": "code",
        "colab": {
          "base_uri": "https://localhost:8080/",
          "height": 265
        },
        "outputId": "110c97d5-4591-48b0-84d1-24aa9fdac39b"
      },
      "source": [
        "fig, ax = plt.subplots(2,1)\n",
        "ax[0].plot(fit_model.history['loss'], color='b', label=\"Training loss\")\n",
        "ax[0].plot(fit_model.history['val_loss'], color='r', label=\"validation loss\",axes =ax[0])\n",
        "legend = ax[0].legend(loc='best', shadow=True)\n",
        "\n",
        "ax[1].plot(fit_model.history['accuracy'], color='b', label=\"Training accuracy\")\n",
        "ax[1].plot(fit_model.history['val_accuracy'], color='r',label=\"Validation accuracy\")\n",
        "legend = ax[1].legend(loc='best', shadow=True)"
      ],
      "execution_count": 94,
      "outputs": [
        {
          "output_type": "display_data",
          "data": {
            "image/png": "[encoded data removed]",
            "text/plain": [
              "<Figure size 432x288 with 2 Axes>"
            ]
          },
          "metadata": {
            "tags": [],
            "needs_background": "light"
          }
        }
      ]
    },
    {
      "cell_type": "code",
      "metadata": {
        "id": "0SUxIzLcBCZl",
        "colab_type": "code",
        "colab": {}
      },
      "source": [
        "y_pred = model.predict(x_val)\n",
        "y_predclasses = np.argmax(y_pred,axis =1)\n",
        "y_true = np.argmax(y_val,axis=1)"
      ],
      "execution_count": 0,
      "outputs": []
    },
    {
      "cell_type": "code",
      "metadata": {
        "id": "eMBIYOXcBdUX",
        "colab_type": "code",
        "colab": {
          "base_uri": "https://localhost:8080/",
          "height": 185
        },
        "outputId": "ac6e3383-1120-4a60-f838-638e8de10b77"
      },
      "source": [
        "confusion_matrix(y_true,y_predclasses)"
      ],
      "execution_count": 96,
      "outputs": [
        {
          "output_type": "execute_result",
          "data": {
            "text/plain": [
              "array([[639,   0,   1,   1,   0,   1,   0,   0,   1,   0],\n",
              "       [  0, 701,   0,   0,   1,   0,   0,   2,   0,   0],\n",
              "       [  0,   0, 630,   0,   0,   0,   0,   1,   1,   0],\n",
              "       [  0,   0,   1, 639,   0,   3,   0,   1,   0,   0],\n",
              "       [  0,   0,   1,   0, 617,   0,   0,   0,   0,   2],\n",
              "       [  1,   0,   0,   1,   0, 562,   1,   0,   1,   0],\n",
              "       [  0,   0,   0,   0,   1,   0, 610,   0,   0,   0],\n",
              "       [  0,   0,   5,   0,   1,   0,   0, 628,   0,   0],\n",
              "       [  1,   1,   0,   2,   0,   1,   3,   0, 614,   0],\n",
              "       [  1,   0,   0,   0,   2,   1,   0,   0,   2, 618]])"
            ]
          },
          "metadata": {
            "tags": []
          },
          "execution_count": 96
        }
      ]
    },
    {
      "cell_type": "code",
      "metadata": {
        "id": "pcORZN2JBv0W",
        "colab_type": "code",
        "colab": {}
      },
      "source": [
        "error = (y_predclasses-y_true != 0)\n",
        "y_predclasses_err = y_predclasses[error]\n",
        "y_pred_err = y_pred[error]\n",
        "y_true_err = y_true[error]\n",
        "x_val_err = x_val[error]"
      ],
      "execution_count": 0,
      "outputs": []
    },
    {
      "cell_type": "code",
      "metadata": {
        "id": "24F-Zhx290MT",
        "colab_type": "code",
        "colab": {
          "base_uri": "https://localhost:8080/",
          "height": 313
        },
        "outputId": "d886ac37-dece-4a30-b71c-de46de7063f1"
      },
      "source": [
        "def disp_error(errors_ind,img_err,pred_err,obs_err):\n",
        "  n = 0\n",
        "  nrows = 2\n",
        "  ncols = 3\n",
        "  fig,ax = plt.subplots(nrows,ncols,sharex=True,sharey=True)\n",
        "  plt.figure(figsize=(10,8))\n",
        "  for row in range(nrows):\n",
        "    for col in range(ncols):\n",
        "      err = errors_ind[n]\n",
        "      ax[row,col].imshow((img_err[err]).reshape((28,28)))\n",
        "      ax[row,col].set_title(\"Predicted label :{} \\n True label :{}\".format(pred_err[err],obs_err[err]))\n",
        "      n +=1\n",
        "\n",
        "pred_errprob = np.max(y_pred_err,axis = 1)\n",
        "truepred_prob = np.diagonal(np.take(y_pred_err,y_true_err,axis =1))\n",
        "\n",
        "\n",
        "pred_diff = pred_errprob - truepred_prob\n",
        "\n",
        "err_sort = np.argsort(pred_diff)\n",
        "\n",
        "imp_err = err_sort[-7:]\n",
        "\n",
        "disp_error(imp_err,x_val_err,y_predclasses_err,y_true_err)"
      ],
      "execution_count": 106,
      "outputs": [
        {
          "output_type": "display_data",
          "data": {
            "image/png": "[encoded data removed]",
            "text/plain": [
              "<Figure size 432x288 with 6 Axes>"
            ]
          },
          "metadata": {
            "tags": [],
            "needs_background": "light"
          }
        },
        {
          "output_type": "display_data",
          "data": {
            "text/plain": [
              "<Figure size 720x576 with 0 Axes>"
            ]
          },
          "metadata": {
            "tags": []
          }
        }
      ]
    },
    {
      "cell_type": "markdown",
      "metadata": {
        "id": "uo2a7U5EHj36",
        "colab_type": "text"
      },
      "source": [
        "Predicting on test and exporting csv to upload on kaggle."
      ]
    },
    {
      "cell_type": "code",
      "metadata": {
        "id": "Z4dQ-o-FFAqs",
        "colab_type": "code",
        "colab": {}
      },
      "source": [
        "final = model.predict(test)"
      ],
      "execution_count": 0,
      "outputs": []
    },
    {
      "cell_type": "code",
      "metadata": {
        "id": "NFSSXfKAFDpd",
        "colab_type": "code",
        "colab": {}
      },
      "source": [
        "final = np.argmax(final,axis = 1)\n",
        "final = pd.Series(final,name = 'Label')"
      ],
      "execution_count": 0,
      "outputs": []
    },
    {
      "cell_type": "code",
      "metadata": {
        "id": "uqcl9Vl2FQxG",
        "colab_type": "code",
        "colab": {}
      },
      "source": [
        "sub = pd.concat([pd.Series(range(1,28001),name = \"ImageID\"),final],axis=1)"
      ],
      "execution_count": 0,
      "outputs": []
    },
    {
      "cell_type": "code",
      "metadata": {
        "id": "y_Z2BubaFkti",
        "colab_type": "code",
        "colab": {}
      },
      "source": [
        "sub.to_csv(\"/content/drive/My Drive/data/digit-recognizer/digit_mnist.csv\",index=False)"
      ],
      "execution_count": 0,
      "outputs": []
    }
  ]
}